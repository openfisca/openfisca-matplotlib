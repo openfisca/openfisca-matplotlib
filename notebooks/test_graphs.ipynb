{
 "cells": [
  {
   "cell_type": "markdown",
   "metadata": {},
   "source": [
    "# Testing graphical utils"
   ]
  },
  {
   "cell_type": "code",
   "execution_count": 1,
   "metadata": {},
   "outputs": [],
   "source": [
    "%matplotlib inline\n",
    "import datetime\n",
    "from pathlib import Path\n",
    "from ruamel.yaml import YAML\n",
    "\n",
    "from openfisca_matplotlib import graphs\n",
    "\n",
    "from openfisca_matplotlib.tests.helpers import create_simulation2, create_simulation"
   ]
  },
  {
   "cell_type": "markdown",
   "metadata": {},
   "source": [
    "## Testing waterfall"
   ]
  },
  {
   "cell_type": "code",
   "execution_count": null,
   "metadata": {
    "scrolled": true
   },
   "outputs": [],
   "source": [
    "path = Path('../openfisca_matplotlib/decomposition.yaml')\n",
    "yaml = YAML(typ='safe')\n",
    "decomposition_json = yaml.load(path)\n",
    "\n",
    "def calculate(simulation, tree):\n",
    "    for node in tree:\n",
    "        array = simulation.calculate_add(node['code'], simulation.period)\n",
    "        node['values'] = array.tolist()\n",
    "        calculate(simulation, node['children'])\n",
    "        \n",
    "simulation, _ = create_simulation()\n",
    "year = 2014\n",
    "calculate(simulation, decomposition_json)\n",
    "\n",
    "graphs.draw_waterfall(\n",
    "    simulation = simulation,\n",
    "    visible = ['revenu_disponible'],\n",
    "    decomposition_json = decomposition_json\n",
    "    )"
   ]
  },
  {
   "cell_type": "markdown",
   "metadata": {},
   "source": [
    "## Testing bareme"
   ]
  },
  {
   "cell_type": "code",
   "execution_count": null,
   "metadata": {},
   "outputs": [],
   "source": [
    "reform_simulation, reference_simulation = create_simulation(bareme = True)\n",
    "\n",
    "year = 2014\n",
    "reference_simulation.calculate('revenu_disponible', period = year)\n",
    "reform_simulation.calculate('revenu_disponible', period = year)"
   ]
  },
  {
   "cell_type": "markdown",
   "metadata": {},
   "source": [
    "### Reference (baseline) simulation"
   ]
  },
  {
   "cell_type": "code",
   "execution_count": null,
   "metadata": {},
   "outputs": [],
   "source": [
    "graphs.draw_bareme(\n",
    "    simulation = reference_simulation,\n",
    "    x_axis = 'salaire_brut',  # instead of salaire_de_base\n",
    "    visible_lines = ['revenu_disponible'])"
   ]
  },
  {
   "cell_type": "markdown",
   "metadata": {},
   "source": [
    "###  Reform simulation"
   ]
  },
  {
   "cell_type": "code",
   "execution_count": null,
   "metadata": {},
   "outputs": [],
   "source": [
    "graphs.draw_bareme(\n",
    "    simulation = reform_simulation,\n",
    "    x_axis = 'salaire_brut',  # instead of salaire_de_base\n",
    "    visible_lines = ['revenu_disponible'])"
   ]
  },
  {
   "cell_type": "markdown",
   "metadata": {},
   "source": [
    "### Difference reform - reference"
   ]
  },
  {
   "cell_type": "code",
   "execution_count": null,
   "metadata": {},
   "outputs": [],
   "source": [
    "graphs.draw_bareme(\n",
    "    simulation = reform_simulation,\n",
    "    reference_simulation = reference_simulation,\n",
    "    x_axis = 'salaire_brut',  # instead of salaire_de_base\n",
    "    visible_lines = ['revenu_disponible'])"
   ]
  },
  {
   "cell_type": "markdown",
   "metadata": {},
   "source": [
    "## Graph rates"
   ]
  },
  {
   "cell_type": "code",
   "execution_count": null,
   "metadata": {},
   "outputs": [],
   "source": [
    "reform_simulation, reference_simulation = create_simulation(bareme = True)\n",
    "graphs.draw_rates(\n",
    "    simulation = reform_simulation,\n",
    "    x_axis = 'salaire_de_base',\n",
    "    y_axis = 'revenu_disponible',\n",
    "    period = year,\n",
    "    )"
   ]
  },
  {
   "cell_type": "markdown",
   "metadata": {},
   "source": [
    "## Compare household differing in composition"
   ]
  },
  {
   "cell_type": "markdown",
   "metadata": {},
   "source": [
    "Compare a single with a married individual (spouse is a wage earner) "
   ]
  },
  {
   "cell_type": "code",
   "execution_count": null,
   "metadata": {},
   "outputs": [],
   "source": [
    "simulation_1p, simulation_2p = create_simulation2(bareme = True)\n",
    "year = 2014\n",
    "simulation_1p.calculate('revenu_disponible', period = year)\n",
    "simulation_2p.calculate('revenu_disponible', period = year)\n",
    "graphs.draw_bareme(\n",
    "    simulation = simulation_2p,\n",
    "    x_axis = 'salaire_brut',  # instead of salaire_de_base\n",
    "    reference_simulation = simulation_1p,\n",
    "    visible_lines = ['revenu_disponible'],\n",
    "    )"
   ]
  },
  {
   "cell_type": "code",
   "execution_count": null,
   "metadata": {},
   "outputs": [],
   "source": []
  }
 ],
 "metadata": {
  "kernelspec": {
   "display_name": "Python 3",
   "language": "python",
   "name": "python3"
  },
  "language_info": {
   "codemirror_mode": {
    "name": "ipython",
    "version": 3
   },
   "file_extension": ".py",
   "mimetype": "text/x-python",
   "name": "python",
   "nbconvert_exporter": "python",
   "pygments_lexer": "ipython3",
   "version": "3.7.0"
  }
 },
 "nbformat": 4,
 "nbformat_minor": 2
}
