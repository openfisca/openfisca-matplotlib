{
 "cells": [
  {
   "cell_type": "code",
   "execution_count": 1,
   "metadata": {
    "collapsed": true
   },
   "outputs": [],
   "source": [
    "%matplotlib inline"
   ]
  },
  {
   "cell_type": "code",
   "execution_count": 7,
   "metadata": {
    "collapsed": false
   },
   "outputs": [],
   "source": [
    "import matplotlib.pyplot as plt\n",
    "from datetime import date\n",
    "from openfisca_matplotlib import graphs\n",
    "from openfisca_matplotlib.cas_types import create_scenario_inferieur_smic, create_scenario_superieur_smic\n",
    "\n",
    "import openfisca_france\n",
    "TaxBenefitSystem = openfisca_france.FranceTaxBenefitSystem\n",
    "tax_benefit_system = TaxBenefitSystem() \n",
    "year = 2014\n"
   ]
  },
  {
   "cell_type": "markdown",
   "metadata": {},
   "source": [
    "## Initialisation d'un scénario"
   ]
  },
  {
   "cell_type": "code",
   "execution_count": 8,
   "metadata": {
    "collapsed": false
   },
   "outputs": [
    {
     "data": {
      "text/plain": [
       "<openfisca_france.scenarios.Scenario at 0x7f90690838d0>"
      ]
     },
     "execution_count": 8,
     "metadata": {},
     "output_type": "execute_result"
    }
   ],
   "source": [
    "scenario = tax_benefit_system.new_scenario()\n",
    "scenario.init_single_entity(\n",
    "    parent1 = dict(\n",
    "        date_naissance = date(year - 40, 1, 1),\n",
    "        salaire_de_base = 20000,\n",
    "        categorie_salarie = 'prive_non_cadre',\n",
    "        ),\n",
    "    menage = dict(\n",
    "        loyer = 1000 * 12,\n",
    "        statut_occupation_logement = \"locataire_vide\",\n",
    "        ),\n",
    "    period = 2014,\n",
    "    )"
   ]
  },
  {
   "cell_type": "code",
   "execution_count": 9,
   "metadata": {
    "collapsed": true
   },
   "outputs": [],
   "source": [
    "simulation = scenario.new_simulation()"
   ]
  },
  {
   "cell_type": "code",
   "execution_count": 12,
   "metadata": {
    "collapsed": false
   },
   "outputs": [
    {
     "name": "stdout",
     "output_type": "stream",
     "text": [
      "[0.]\n",
      "1 rsa_base_ressources [0.]\n",
      "1 rsa_socle [499.31]\n",
      "1 rsa_forfait_logement [59.9172]\n",
      "1 rsa_activite [0.]\n",
      "1 rsa [439.3928]\n",
      "2 rsa_base_ressources [433.8356]\n",
      "2 rsa_socle [499.31]\n",
      "2 rsa_forfait_logement [0.]\n",
      "2 rsa_activite [268.9781]\n",
      "2 rsa [334.45248]\n",
      "3 rsa_base_ressources [867.6712]\n",
      "3 rsa_socle [499.31]\n",
      "3 rsa_forfait_logement [0.]\n",
      "3 rsa_activite [169.59497]\n",
      "3 rsa [169.59497]\n",
      "4 rsa_base_ressources [1301.5068]\n",
      "4 rsa_socle [499.31]\n",
      "4 rsa_forfait_logement [0.]\n",
      "4 rsa_activite [0.]\n",
      "4 rsa [0.]\n",
      "5 rsa_base_ressources [1301.5068]\n",
      "5 rsa_socle [499.31]\n",
      "5 rsa_forfait_logement [0.]\n",
      "5 rsa_activite [0.]\n",
      "5 rsa [0.]\n",
      "6 rsa_base_ressources [1301.5068]\n",
      "6 rsa_socle [499.31]\n",
      "6 rsa_forfait_logement [0.]\n",
      "6 rsa_activite [0.]\n",
      "6 rsa [0.]\n",
      "7 rsa_base_ressources [1301.5068]\n",
      "7 rsa_socle [499.31]\n",
      "7 rsa_forfait_logement [0.]\n",
      "7 rsa_activite [0.]\n",
      "7 rsa [0.]\n",
      "8 rsa_base_ressources [1301.5068]\n",
      "8 rsa_socle [499.31]\n",
      "8 rsa_forfait_logement [0.]\n",
      "8 rsa_activite [0.]\n",
      "8 rsa [0.]\n",
      "9 rsa_base_ressources [1301.5068]\n",
      "9 rsa_socle [509.3]\n",
      "9 rsa_forfait_logement [0.]\n",
      "9 rsa_activite [14.727417]\n",
      "9 rsa [14.727417]\n",
      "10 rsa_base_ressources [1301.5068]\n",
      "10 rsa_socle [509.3]\n",
      "10 rsa_forfait_logement [0.]\n",
      "10 rsa_activite [14.727417]\n",
      "10 rsa [14.727417]\n",
      "11 rsa_base_ressources [1301.5068]\n",
      "11 rsa_socle [509.3]\n",
      "11 rsa_forfait_logement [0.]\n",
      "11 rsa_activite [14.727417]\n",
      "11 rsa [14.727417]\n",
      "12 rsa_base_ressources [1301.5068]\n",
      "12 rsa_socle [509.3]\n",
      "12 rsa_forfait_logement [0.]\n",
      "12 rsa_activite [14.727417]\n",
      "12 rsa [14.727417]\n"
     ]
    }
   ],
   "source": [
    "for month in range(1, 13):\n",
    "    print month, 'rsa_base_ressources', simulation.calculate('rsa_base_ressources', period = '2014-{}'.format(month))\n",
    "    print month, 'rsa_socle', simulation.calculate('rsa_socle', period = '2014-{}'.format(month))\n",
    "    print month, 'rsa_forfait_logement', simulation.calculate('rsa_forfait_logement', period = '2014-{}'.format(month))\n",
    "    print month, 'rsa_activite', simulation.calculate('rsa_activite', period = '2014-{}'.format(month))\n",
    "    print month, 'rsa', simulation.calculate('rsa', period = '2014-{}'.format(month))"
   ]
  },
  {
   "cell_type": "code",
   "execution_count": 11,
   "metadata": {
    "collapsed": false
   },
   "outputs": [
    {
     "name": "stderr",
     "output_type": "stream",
     "text": [
      "/home/benjello/openfisca/openfisca-core/openfisca_core/simulations.py:212: Warning: The simulation.get_holder method has been deprecated. Please use entity.get_holder instead.\n",
      "  Warning\n",
      "/home/benjello/openfisca/openfisca-matplotlib/openfisca_matplotlib/graphs.py:187: MatplotlibDeprecationWarning: axes.hold is deprecated.\n",
      "    See the API Changes document (http://matplotlib.org/api/api_changes.html)\n",
      "    for more details.\n",
      "  ax.hold(True)\n"
     ]
    },
    {
     "data": {
      "image/png": "[encoded data removed]",
      "text/plain": [
       "<matplotlib.figure.Figure at 0x7f906908da50>"
      ]
     },
     "metadata": {},
     "output_type": "display_data"
    }
   ],
   "source": [
    "graphs.draw_waterfall(\n",
    "    simulation = simulation,\n",
    "    visible = ['revenu_disponible'],\n",
    "    )"
   ]
  },
  {
   "cell_type": "code",
   "execution_count": null,
   "metadata": {
    "collapsed": true
   },
   "outputs": [],
   "source": [
    "BOUM"
   ]
  },
  {
   "cell_type": "code",
   "execution_count": null,
   "metadata": {
    "collapsed": false
   },
   "outputs": [],
   "source": [
    "scenario_kwargs = create_scenario_superieur_smic(year = 2014, nb_smic_max = 2, count = 100)"
   ]
  },
  {
   "cell_type": "code",
   "execution_count": null,
   "metadata": {
    "collapsed": false
   },
   "outputs": [],
   "source": [
    "graphs.draw_waterfall(\n",
    "    simulation = simulation,\n",
    "    visible = ['revenu_disponible'],\n",
    "    )"
   ]
  },
  {
   "cell_type": "code",
   "execution_count": null,
   "metadata": {
    "collapsed": false
   },
   "outputs": [],
   "source": []
  },
  {
   "cell_type": "code",
   "execution_count": null,
   "metadata": {
    "collapsed": false
   },
   "outputs": [],
   "source": [
    "assert simulation.period.unit == 'year' \n",
    "assert simulation.period.start.year == 2014\n",
    "assert simulation.period.start.month == 1\n",
    "assert simulation.period.start.day == 1\n",
    "assert simulation.period.size == 1"
   ]
  },
  {
   "cell_type": "code",
   "execution_count": null,
   "metadata": {
    "collapsed": true
   },
   "outputs": [],
   "source": [
    "from openfisca_matplotlib import graphs"
   ]
  },
  {
   "cell_type": "code",
   "execution_count": null,
   "metadata": {
    "collapsed": false
   },
   "outputs": [],
   "source": [
    "graphs.draw_bareme(simulation, x_axis = 'salaire_imposable')"
   ]
  },
  {
   "cell_type": "code",
   "execution_count": null,
   "metadata": {
    "collapsed": false
   },
   "outputs": [],
   "source": [
    "simulation.calculate_add('irpp', period = 2014)"
   ]
  },
  {
   "cell_type": "code",
   "execution_count": null,
   "metadata": {
    "collapsed": true
   },
   "outputs": [],
   "source": []
  },
  {
   "cell_type": "code",
   "execution_count": null,
   "metadata": {
    "collapsed": true
   },
   "outputs": [],
   "source": []
  }
 ],
 "metadata": {
  "kernelspec": {
   "display_name": "Python 2",
   "language": "python",
   "name": "python2"
  },
  "language_info": {
   "codemirror_mode": {
    "name": "ipython",
    "version": 2
   },
   "file_extension": ".py",
   "mimetype": "text/x-python",
   "name": "python",
   "nbconvert_exporter": "python",
   "pygments_lexer": "ipython2",
   "version": "2.7.14+"
  }
 },
 "nbformat": 4,
 "nbformat_minor": 2
}
